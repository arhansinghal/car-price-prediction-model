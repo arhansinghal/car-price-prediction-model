{
  "cells": [
    {
      "cell_type": "markdown",
      "metadata": {
        "id": "cN_oEsXfM_LV"
      },
      "source": [
        "# Lesson 71: Car Price Prediction - Model Evaluation"
      ]
    },
    {
      "cell_type": "markdown",
      "metadata": {
        "id": "gFjOAv8nAhzQ"
      },
      "source": [
        "### Teacher-Student Activities\n",
        "\n",
        "After rebuilding the linear regression model, in this class, we will find out the final features affecting the prices of cars and evaluate the model on all the important metrics such as coefficient of determination, MAE, MSE, RMSE and homoscedasticity. You will also get to learn basics of logarithm and another evaluation metric called MSLE.\n",
        "\n",
        "Let's go through the activities covered in the previous class and begin this class from **Activity 1: Final Features** section."
      ]
    },
    {
      "cell_type": "markdown",
      "metadata": {
        "id": "7rqO31eQB5O-"
      },
      "source": [
        "---"
      ]
    },
    {
      "cell_type": "markdown",
      "metadata": {
        "id": "f-uhY3ryaj4N"
      },
      "source": [
        "### Problem Statement\n",
        "\n",
        "Build a linear regression model to predict prices of cars based on its technical specifications such as car manufacturer, its engine capacity, fuel efficiency, body-type etc.\n",
        "\n",
        "**Dataset Description:**\n",
        "\n",
        "The dataset contains 205 rows and 26 columns. Each column represents an attribute of a car as described in the table below.\n",
        "\n",
        "|Sr No.|Attribute|Attribute Information|\n",
        "|-|-|-|\n",
        "|1|Car_ID|Unique id of each car (Integer)|\t\t\n",
        "|2|Symboling|Assigned insurance risk rating; a value of +3 indicates that the car is risky; -3 suggests that it is probably a safe car (Categorical)|\n",
        "|3|carCompany|Name of car company (Categorical)|\n",
        "|4|fueltype| fuel-type i.e. petrol or diesel (Categorical)|\t\n",
        "|5|aspiration|Aspiration used in a car (Categorical)|\t\t\n",
        "|6|doornumber|Number of doors in a car (Categorical)|\t\t\n",
        "|7|carbody|Body-type of a car (Categorical)|\n",
        "|8|drivewheel|Type of drive wheel (Categorical)|\n",
        "|9|enginelocation|Location of car engine (Categorical)|\n",
        "|10|wheelbase|Wheelbase of car (Numeric)|\t\t\n",
        "|11|carlength|Length of car (Numeric)|\t\t\n",
        "|12|carwidth|Width of car (Numeric)|\n",
        "|13|carheight|Height of car (Numeric)|\n",
        "|14|curbweight|The weight of a car without occupants or baggage (Numeric)|\n",
        "|15|enginetype|Type of engine (Categorical)|\n",
        "|16|cylindernumber|Number of cylinders placed in the car engine (Categorical)||17|enginesize|Capacity of an engine (Numeric)|\n",
        "|18|fuelsystem|Fuel system of a car (Categorical)|\n",
        "|19|boreratio|Bore ratio of car (Numeric)|\n",
        "|20|stroke|Stroke or volume inside the engine (Numeric)|\n",
        "|21|compressionratio|Compression ratio of an engine (Numeric)|\n",
        "|22|horsepower|Power output of an engine (Numeric)|\t\t\n",
        "|23|peakrpm|Peak revolutions per minute (Numeric)|\n",
        "|24|citympg|Mileage in city (Numeric)|\n",
        "|25|highwaympg|Mileage on highway (Numeric)|\n",
        "|26|price(Dependent variable)|Price of a car (Numeric)|\t\n",
        "\n",
        "This data set consists of three types of entities: \n",
        "\n",
        "- the specification of an auto in terms of various characteristics, \n",
        "\n",
        "- its assigned insurance risk rating, \n",
        "\n",
        "- its normalised losses in use as compared to other cars. \n",
        "\n",
        "The second rating corresponds to the degree to which the auto is more risky than its price indicates. Cars are initially assigned a risk factor symbol associated with its price. Then, if it is more risky (or less), this symbol is adjusted by moving it up (or down) the scale. Actuarians call this process **symboling**. A value of $+3$ indicates that the auto is risky, $-3$ that it is probably pretty safe.\n",
        "\n",
        "The third factor is the relative average loss payment per insured vehicle year. This value is normalized for all autos within a particular size classification (two-door small, station wagons, sports/speciality etc.), and represents the average loss per car per year.\n",
        "\n",
        "**Note:** Several of the attributes in the database could be used as a \"class\" attribute.\n",
        "\n",
        "**Dataset source:** https://archive.ics.uci.edu/ml/datasets/Automobile\n",
        "\n",
        "\n",
        "The above dataset consists of data taken from 1985 Ward's Automotive Yearbook. Here's the list of original sources of the data:\n",
        "\n",
        "1. 1985 Model Import Car and Truck Specifications, 1985 Ward's Automotive Yearbook.\n",
        "\n",
        "2. Personal Auto Manuals, Insurance Services Office, 160 Water Street, New York, NY 10038\n",
        "\n",
        "3. Insurance Collision Report, Insurance Institute for Highway Safety, Watergate 600, Washington, DC 20037\n",
        "\n",
        "\n",
        "\n",
        "\n"
      ]
    },
    {
      "cell_type": "markdown",
      "metadata": {
        "id": "SZEA9P6hDG28"
      },
      "source": [
        "---"
      ]
    },
    {
      "cell_type": "markdown",
      "metadata": {
        "id": "keVeYBHNDHh8"
      },
      "source": [
        "#### Importing Modules & Reading Data\n",
        "\n",
        "https://student-datasets-bucket.s3.ap-south-1.amazonaws.com/whitehat-ds-datasets/car-prices.csv"
      ]
    },
    {
      "cell_type": "code",
      "execution_count": null,
      "metadata": {
        "colab": {
          "base_uri": "https://localhost:8080/"
        },
        "id": "5f2emlnJM56A",
        "outputId": "fa418729-7e8e-482f-cfd4-553f06d5c0f3"
      },
      "outputs": [
        {
          "name": "stderr",
          "output_type": "stream",
          "text": [
            "/usr/local/lib/python3.7/dist-packages/pandas/core/frame.py:4174: SettingWithCopyWarning: \n",
            "A value is trying to be set on a copy of a slice from a DataFrame\n",
            "\n",
            "See the caveats in the documentation: https://pandas.pydata.org/pandas-docs/stable/user_guide/indexing.html#returning-a-view-versus-a-copy\n",
            "  errors=errors,\n"
          ]
        },
        {
          "name": "stdout",
          "output_type": "stream",
          "text": [
            "Number of features moderately to highly correlated with price = 15 \n",
            "\n"
          ]
        },
        {
          "name": "stderr",
          "output_type": "stream",
          "text": [
            "/usr/local/lib/python3.7/dist-packages/pandas/core/frame.py:3069: SettingWithCopyWarning: \n",
            "A value is trying to be set on a copy of a slice from a DataFrame.\n",
            "Try using .loc[row_indexer,col_indexer] = value instead\n",
            "\n",
            "See the caveats in the documentation: https://pandas.pydata.org/pandas-docs/stable/user_guide/indexing.html#returning-a-view-versus-a-copy\n",
            "  self[k1] = value[k2]\n"
          ]
        },
        {
          "data": {
            "text/plain": [
              "{'boreratio': 0.5531732367984434,\n",
              " 'car_company_buick': 0.515094050057132,\n",
              " 'carlength': 0.6829200156779628,\n",
              " 'carwidth': 0.7593252997415119,\n",
              " 'citympg': -0.68575133602704,\n",
              " 'curbweight': 0.8353048793372965,\n",
              " 'cylindernumber': 0.7183049020002816,\n",
              " 'drivewheel_fwd': -0.6019502965330914,\n",
              " 'drivewheel_rwd': 0.6389565386618764,\n",
              " 'enginesize': 0.8741448025245112,\n",
              " 'fuelsystem_2bbl': -0.5013743424965753,\n",
              " 'fuelsystem_mpfi': 0.5170749892680737,\n",
              " 'highwaympg': -0.6975990916465566,\n",
              " 'horsepower': 0.8081388225362212,\n",
              " 'wheelbase': 0.5778155982921496}"
            ]
          },
          "execution_count": 4,
          "metadata": {},
          "output_type": "execute_result"
        }
      ],
      "source": [
        "# Import the modules, read the dataset and create a Pandas DataFrame.\n",
        "import numpy as np\n",
        "import pandas as pd\n",
        "import matplotlib.pyplot as plt\n",
        "import seaborn as sns\n",
        "\n",
        "# Read the dataset\n",
        "cars_df = pd.read_csv(\"https://s3-student-datasets-bucket.whjr.online/whitehat-ds-datasets/car-prices.csv\")\n",
        "\n",
        "\n",
        "# Extract the name of the manufactures from the car names and display the first 25 cars to verify whether names are extracted successfully.\n",
        "car_companies = pd.Series([car.split(\" \")[0] for car in cars_df['CarName']], index = cars_df.index)\n",
        "\n",
        "# Create a new column named 'car_company'. It should store the company names of a the cars.\n",
        "cars_df['car_company'] = car_companies\n",
        "\n",
        "# Replace the misspelled 'car_company' names with their correct names.\n",
        "# volkswagen\n",
        "cars_df.loc[(cars_df['car_company'] == \"vw\") | (cars_df['car_company'] == \"vokswagen\"), 'car_company'] = 'volkswagen'\n",
        "\n",
        "# porsche\n",
        "cars_df.loc[cars_df['car_company'] == \"porcshce\", 'car_company'] = 'porsche'\n",
        "\n",
        "# toyota\n",
        "cars_df.loc[cars_df['car_company'] == \"toyouta\", 'car_company'] = 'toyota'\n",
        "\n",
        "# nissan\n",
        "cars_df.loc[cars_df['car_company'] == \"Nissan\", 'car_company'] = 'nissan'\n",
        "\n",
        "# mazda\n",
        "cars_df.loc[cars_df['car_company'] == \"maxda\", 'car_company'] = 'mazda'\n",
        "\n",
        "# Drop 'CarName' column from the 'cars_df' DataFrame.\n",
        "cars_df.drop(columns= ['CarName'], axis = 1, inplace = True)\n",
        "\n",
        "# Extract all the numeric (float and int type) columns from the dataset.\n",
        "cars_numeric_df = cars_df.select_dtypes(include = ['int64', 'float64'])\n",
        "\n",
        "# Drop the 'car_ID' column from the 'cars_numeric_df' DataFrame. \n",
        "cars_numeric_df.drop(columns = ['car_ID'], axis = 1, inplace = True)\n",
        "\n",
        "# Map the values of the 'doornumber' and 'cylindernumber' columns to their corresponding numeric values.\n",
        "words_dict = {\"two\": 2, \"three\": 3, \"four\": 4, \"five\": 5, \"six\": 6, \"eight\": 8, \"twelve\": 12}\n",
        "def num_map(series):\n",
        "    return series.map(words_dict)\n",
        "\n",
        "# Applying the function to the two columns\n",
        "cars_df[['cylindernumber', 'doornumber']] = cars_df[['cylindernumber', 'doornumber']].apply(num_map, axis = 1)\n",
        "\n",
        "# Create dummy variables for the 'carbody' columns.\n",
        "car_body_dummies = pd.get_dummies(cars_df['carbody'], dtype = int)\n",
        "\n",
        "# Create dummy variables for the 'carbody' columns with 1 column less.\n",
        "car_body_new_dummies = pd.get_dummies(cars_df['carbody'], drop_first = True, dtype = int)\n",
        "\n",
        "# Create a DataFrame containing all the non-numeric type features.\n",
        "cars_categorical_df = cars_df.select_dtypes(include = ['object'])\n",
        "\n",
        "#Get dummy variables for all the categorical type columns using the dummy coding process.\n",
        "cars_dummies_df = pd.get_dummies(cars_categorical_df, drop_first = True, dtype = int)\n",
        "\n",
        "#  Drop the categorical type columns from the 'cars_df' DataFrame.\n",
        "cars_df.drop(list(cars_categorical_df.columns), axis = 1, inplace = True)\n",
        "\n",
        "# Concatenate the 'cars_df' and 'cars_dummies_df' DataFrames.\n",
        "cars_df = pd.concat([cars_df, cars_dummies_df], axis = 1)\n",
        "\n",
        "#  Drop the 'car_ID' column\n",
        "cars_df.drop('car_ID', axis = 1, inplace = True)\n",
        "\n",
        "# Split the 'cars_df' Dataframe into the train and test sets.\n",
        "from sklearn.model_selection import train_test_split\n",
        "train_df, test_df = train_test_split(cars_df, test_size = 0.3, random_state = 42)\n",
        "\n",
        "# Create separate data-frames for the feature and target variables for both the train and test sets.\n",
        "features = list(cars_df.columns)\n",
        "features.remove('price')\n",
        "\n",
        "X_train = train_df[features]\n",
        "y_train = train_df['price']\n",
        "X_test = test_df[features]\n",
        "y_test = test_df['price']\n",
        "\n",
        "# Normalise only the numeric columns.\n",
        "def standard_norm(series):\n",
        "  series_mean = series.mean()\n",
        "  series_std = series.std()\n",
        "  new_series = (series - series_mean) / series_std\n",
        "  return new_series\n",
        "\n",
        "X_train[X_train.columns[:16]] = X_train[X_train.columns[:16]].apply(standard_norm, axis = 0)\n",
        "X_test[X_test.columns[:16]] = X_test[X_test.columns[:16]].apply(standard_norm, axis = 0)\n",
        "\n",
        "# Highly correlated features\n",
        "major_features = {}\n",
        "for f in features:\n",
        "  corr_coef = np.corrcoef(cars_df['price'], cars_df[f])[0, 1]\n",
        "  if (corr_coef >= 0.5) or (corr_coef <= -0.5):\n",
        "    major_features[f] = corr_coef\n",
        "\n",
        "print(\"Number of features moderately to highly correlated with price =\", len(major_features), \"\\n\")\n",
        "major_features"
      ]
    },
    {
      "cell_type": "markdown",
      "metadata": {
        "id": "OI8qitijEfI3"
      },
      "source": [
        "---"
      ]
    },
    {
      "cell_type": "markdown",
      "metadata": {
        "id": "W3n9WzqImdBs"
      },
      "source": [
        "#### Recursive Feature Elimination (RFE)\n",
        "\n",
        "Select the best 10 features out of the highly correlated features that you just stored in the dictionary above.\n",
        "\n",
        "To use RFE, you need to\n",
        "\n",
        "1. Import the `RFE` class from the `sklearn.feature_selection` module.\n",
        "\n",
        "2. Create an object of a `LinearRegression` class. Let's name it `skl_lin_reg`.\n",
        "\n",
        "3. Create an object of the `RFE` class. Let's name it `rfe1`. The constructor of the `RFE` object takes the object of `LinearRegression` class (i.e. `skl_lin_reg`) and the number of features to be selected using RFE as inputs.\n",
        "\n",
        "4. Call the `fit()` function on the `RFE` object with the train set (separate sets for independent variables and dependent variable) as input to the function.\n",
        "\n",
        "Use the `support_` attribute of the `RFE` class to get an array containing boolean values wherein `True` denotes the feature selected by RFE. You can also use the `ranking_` attribute of the `RFE` class to to get the rankings of the features. The features selected by `RFE` are ranked $1$."
      ]
    },
    {
      "cell_type": "code",
      "execution_count": null,
      "metadata": {
        "colab": {
          "base_uri": "https://localhost:8080/"
        },
        "id": "IyKg96LKAvxr",
        "outputId": "ee56cf18-da83-4297-9fac-87ce618ddcaa"
      },
      "outputs": [
        {
          "name": "stdout",
          "output_type": "stream",
          "text": [
            "dict_keys(['wheelbase', 'carlength', 'carwidth', 'curbweight', 'cylindernumber', 'enginesize', 'boreratio', 'horsepower', 'citympg', 'highwaympg', 'drivewheel_fwd', 'drivewheel_rwd', 'fuelsystem_2bbl', 'fuelsystem_mpfi', 'car_company_buick']) \n",
            "\n",
            "[False False  True False  True  True  True  True  True  True  True False\n",
            " False  True  True] \n",
            "\n",
            "[5 3 1 4 1 1 1 1 1 1 1 6 2 1 1] \n",
            "\n"
          ]
        }
      ],
      "source": [
        "# Use RFE to eliminate few features from the dataset.\n",
        "# Import RFE.\n",
        "from sklearn.feature_selection import RFE\n",
        "from sklearn.linear_model import LinearRegression\n",
        "\n",
        "# RFE with 10 features.\n",
        "skl_lin_reg = LinearRegression()\n",
        "rfe1 = RFE(skl_lin_reg, n_features_to_select= 10)\n",
        "\n",
        "# Fit with 10 features.\n",
        "rfe1.fit(X_train[major_features.keys()], y_train)\n",
        "\n",
        "# Print the attributes.\n",
        "print(major_features.keys(), \"\\n\") # List of features out of which 10 best featuers are to be selected by RFE.\n",
        "print(rfe1.support_, \"\\n\") # Array containing the boolean values      \n",
        "print(rfe1.ranking_, \"\\n\") # Ranking of the features selected by RFE"
      ]
    },
    {
      "cell_type": "code",
      "execution_count": null,
      "metadata": {
        "colab": {
          "base_uri": "https://localhost:8080/"
        },
        "id": "AvYP0SwKBAQE",
        "outputId": "cc0af41a-8825-4105-bb91-dcb5a44be7c5"
      },
      "outputs": [
        {
          "name": "stdout",
          "output_type": "stream",
          "text": [
            "                            OLS Regression Results                            \n",
            "==============================================================================\n",
            "Dep. Variable:                  price   R-squared:                       0.873\n",
            "Model:                            OLS   Adj. R-squared:                  0.864\n",
            "Method:                 Least Squares   F-statistic:                     91.03\n",
            "Date:                Thu, 16 Dec 2021   Prob (F-statistic):           3.16e-54\n",
            "Time:                        09:41:51   Log-Likelihood:                -1336.8\n",
            "No. Observations:                 143   AIC:                             2696.\n",
            "Df Residuals:                     132   BIC:                             2728.\n",
            "Df Model:                          10                                         \n",
            "Covariance Type:            nonrobust                                         \n",
            "=====================================================================================\n",
            "                        coef    std err          t      P>|t|      [0.025      0.975]\n",
            "-------------------------------------------------------------------------------------\n",
            "const              1.412e+04    618.029     22.840      0.000    1.29e+04    1.53e+04\n",
            "carwidth           1736.5766    383.874      4.524      0.000     977.236    2495.918\n",
            "cylindernumber     -700.2571    632.381     -1.107      0.270   -1951.170     550.656\n",
            "enginesize         3489.8897    772.373      4.518      0.000    1962.060    5017.719\n",
            "boreratio          -703.0429    412.789     -1.703      0.091   -1519.581     113.495\n",
            "horsepower         2213.1768    597.516      3.704      0.000    1031.230    3395.123\n",
            "citympg            -685.9876   1082.467     -0.634      0.527   -2827.215    1455.240\n",
            "highwaympg          808.1811   1020.663      0.792      0.430   -1210.792    2827.154\n",
            "drivewheel_fwd    -2362.0657    716.205     -3.298      0.001   -3778.789    -945.342\n",
            "fuelsystem_mpfi     870.1314    695.994      1.250      0.213    -506.613    2246.876\n",
            "car_company_buick  8279.4418   1825.139      4.536      0.000    4669.136    1.19e+04\n",
            "==============================================================================\n",
            "Omnibus:                       17.987   Durbin-Watson:                   2.101\n",
            "Prob(Omnibus):                  0.000   Jarque-Bera (JB):               29.251\n",
            "Skew:                           0.625   Prob(JB):                     4.45e-07\n",
            "Kurtosis:                       4.829   Cond. No.                         17.2\n",
            "==============================================================================\n",
            "\n",
            "Warnings:\n",
            "[1] Standard Errors assume that the covariance matrix of the errors is correctly specified.\n"
          ]
        }
      ],
      "source": [
        "# Build a linear regression model using the 'statsmodels.api' module having the above 10 features selected using RFE.\n",
        "# Import the 'statsmodels.api' module.\n",
        "import statsmodels.api as sm  \n",
        "\n",
        "# Subset the train set such that it contains only the above 10 selected features.\n",
        "rfe_features = X_train[major_features.keys()].columns[rfe1.support_]\n",
        "X_train_rfe1 = X_train[rfe_features]\n",
        "\n",
        "# Add the 'const' column to the features set.\n",
        "X_train_rfe1 = sm.add_constant(X_train_rfe1)\n",
        "\n",
        "# Fit the model with 10 features selected by RFE.\n",
        "sm_lin_reg1 = sm.OLS(y_train, X_train_rfe1).fit()   \n",
        "print(sm_lin_reg1.summary())"
      ]
    },
    {
      "cell_type": "markdown",
      "metadata": {
        "id": "IVpyMD_tLskx"
      },
      "source": [
        "The $R^2$ and adjusted $R^2$ values are close to $1$ which is a good sign. However, the p-values for a few features are greater than 0.05 which is not a good sign. So let's also calculate the VIF values before you further eliminate more features."
      ]
    },
    {
      "cell_type": "code",
      "execution_count": null,
      "metadata": {
        "colab": {
          "base_uri": "https://localhost:8080/",
          "height": 394
        },
        "id": "CWYhQwLNBoyP",
        "outputId": "88b5ef26-90d9-4b96-f073-c3d527ee6d20"
      },
      "outputs": [
        {
          "data": {
            "text/html": [
              "<div>\n",
              "<style scoped>\n",
              "    .dataframe tbody tr th:only-of-type {\n",
              "        vertical-align: middle;\n",
              "    }\n",
              "\n",
              "    .dataframe tbody tr th {\n",
              "        vertical-align: top;\n",
              "    }\n",
              "\n",
              "    .dataframe thead th {\n",
              "        text-align: right;\n",
              "    }\n",
              "</style>\n",
              "<table border=\"1\" class=\"dataframe\">\n",
              "  <thead>\n",
              "    <tr style=\"text-align: right;\">\n",
              "      <th></th>\n",
              "      <th>Features</th>\n",
              "      <th>VIF</th>\n",
              "    </tr>\n",
              "  </thead>\n",
              "  <tbody>\n",
              "    <tr>\n",
              "      <th>6</th>\n",
              "      <td>citympg</td>\n",
              "      <td>19.90</td>\n",
              "    </tr>\n",
              "    <tr>\n",
              "      <th>7</th>\n",
              "      <td>highwaympg</td>\n",
              "      <td>17.69</td>\n",
              "    </tr>\n",
              "    <tr>\n",
              "      <th>3</th>\n",
              "      <td>enginesize</td>\n",
              "      <td>10.13</td>\n",
              "    </tr>\n",
              "    <tr>\n",
              "      <th>2</th>\n",
              "      <td>cylindernumber</td>\n",
              "      <td>6.79</td>\n",
              "    </tr>\n",
              "    <tr>\n",
              "      <th>0</th>\n",
              "      <td>const</td>\n",
              "      <td>6.53</td>\n",
              "    </tr>\n",
              "    <tr>\n",
              "      <th>5</th>\n",
              "      <td>horsepower</td>\n",
              "      <td>6.06</td>\n",
              "    </tr>\n",
              "    <tr>\n",
              "      <th>4</th>\n",
              "      <td>boreratio</td>\n",
              "      <td>2.89</td>\n",
              "    </tr>\n",
              "    <tr>\n",
              "      <th>1</th>\n",
              "      <td>carwidth</td>\n",
              "      <td>2.50</td>\n",
              "    </tr>\n",
              "    <tr>\n",
              "      <th>8</th>\n",
              "      <td>drivewheel_fwd</td>\n",
              "      <td>2.14</td>\n",
              "    </tr>\n",
              "    <tr>\n",
              "      <th>9</th>\n",
              "      <td>fuelsystem_mpfi</td>\n",
              "      <td>2.07</td>\n",
              "    </tr>\n",
              "    <tr>\n",
              "      <th>10</th>\n",
              "      <td>car_company_buick</td>\n",
              "      <td>1.55</td>\n",
              "    </tr>\n",
              "  </tbody>\n",
              "</table>\n",
              "</div>"
            ],
            "text/plain": [
              "             Features    VIF\n",
              "6             citympg  19.90\n",
              "7          highwaympg  17.69\n",
              "3          enginesize  10.13\n",
              "2      cylindernumber   6.79\n",
              "0               const   6.53\n",
              "5          horsepower   6.06\n",
              "4           boreratio   2.89\n",
              "1            carwidth   2.50\n",
              "8      drivewheel_fwd   2.14\n",
              "9     fuelsystem_mpfi   2.07\n",
              "10  car_company_buick   1.55"
            ]
          },
          "execution_count": 8,
          "metadata": {},
          "output_type": "execute_result"
        }
      ],
      "source": [
        "# Check for the VIF values of the 10 features selected by RFE above. \n",
        "from statsmodels.stats.outliers_influence import variance_inflation_factor\n",
        "\n",
        "# Create a dataframe that will contain the names of all the feature variables and their respective VIFs\n",
        "vif = pd.DataFrame()\n",
        "vif['Features'] = X_train_rfe1.columns\n",
        "vif['VIF'] = [variance_inflation_factor(X_train_rfe1.values, i) for i in range(X_train_rfe1.shape[1])]\n",
        "vif['VIF'] = round(vif['VIF'], 2)\n",
        "vif = vif.sort_values(by = \"VIF\", ascending = False)\n",
        "vif"
      ]
    },
    {
      "cell_type": "markdown",
      "metadata": {
        "id": "AauTo3Qp9Tqs"
      },
      "source": [
        "Here, you can see that a couple features have high VIF values which means there's a high probability of multicollinearity even though the `statsmodels.api` didn't throw a multicollinearity warning message. You need to remove this multicollinearity either by one-by-one eliminating features or by selecting the fewer features. Let's go with the latter approach.\n",
        "\n",
        "\n",
        "**Note:** As a guideline, to further eliminate the features:\n",
        "\n",
        "1. Calculate the number of features having high p-values. Let's say this is 5.\n",
        "\n",
        "2. Calculate the number of features having high VIF values. Let's say this is 3. \n",
        "\n",
        "3. The number of features to be further eliminated would be the maximum of the numbers obtained in steps 1 and 2. In this case, $\\text{max}\\{5, 3\\} = 5$."
      ]
    },
    {
      "cell_type": "code",
      "execution_count": null,
      "metadata": {
        "colab": {
          "base_uri": "https://localhost:8080/"
        },
        "id": "DyCa-EZ9919L",
        "outputId": "bb77468a-bfb9-4000-ac8a-c6f55a8f15c3"
      },
      "outputs": [
        {
          "name": "stdout",
          "output_type": "stream",
          "text": [
            "dict_keys(['wheelbase', 'carlength', 'carwidth', 'curbweight', 'cylindernumber', 'enginesize', 'boreratio', 'horsepower', 'citympg', 'highwaympg', 'drivewheel_fwd', 'drivewheel_rwd', 'fuelsystem_2bbl', 'fuelsystem_mpfi', 'car_company_buick']) \n",
            "\n",
            "[False False  True False False  True False  True False False  True False\n",
            " False False  True] \n",
            "\n",
            "[10  8  1  9  3  1  4  1  6  5  1 11  7  2  1] \n",
            "\n"
          ]
        }
      ],
      "source": [
        "# Use RFE to eliminate few features from the dataset. \n",
        "# RFE with 5 features.\n",
        "skl_lin_reg2 = LinearRegression()\n",
        "rfe2 = RFE(skl_lin_reg2, n_features_to_select= 5)\n",
        "\n",
        "# Fit with 5 features.\n",
        "rfe2.fit(X_train[major_features.keys()], y_train)\n",
        "\n",
        "# Print the attributes.\n",
        "print(major_features.keys(), \"\\n\")\n",
        "print(rfe2.support_, \"\\n\")           \n",
        "print(rfe2.ranking_, \"\\n\")  "
      ]
    },
    {
      "cell_type": "code",
      "execution_count": null,
      "metadata": {
        "colab": {
          "base_uri": "https://localhost:8080/"
        },
        "id": "_usSx1f6-GHm",
        "outputId": "f6b71816-8ae8-4914-8b0c-e38587032c99"
      },
      "outputs": [
        {
          "name": "stdout",
          "output_type": "stream",
          "text": [
            "                            OLS Regression Results                            \n",
            "==============================================================================\n",
            "Dep. Variable:                  price   R-squared:                       0.868\n",
            "Model:                            OLS   Adj. R-squared:                  0.863\n",
            "Method:                 Least Squares   F-statistic:                     180.2\n",
            "Date:                Thu, 16 Dec 2021   Prob (F-statistic):           2.00e-58\n",
            "Time:                        09:42:19   Log-Likelihood:                -1339.8\n",
            "No. Observations:                 143   AIC:                             2692.\n",
            "Df Residuals:                     137   BIC:                             2709.\n",
            "Df Model:                           5                                         \n",
            "Covariance Type:            nonrobust                                         \n",
            "=====================================================================================\n",
            "                        coef    std err          t      P>|t|      [0.025      0.975]\n",
            "-------------------------------------------------------------------------------------\n",
            "const              1.436e+04    427.391     33.589      0.000    1.35e+04    1.52e+04\n",
            "carwidth           1696.2271    357.627      4.743      0.000     989.044    2403.411\n",
            "enginesize         2636.6328    497.107      5.304      0.000    1653.638    3619.628\n",
            "horsepower         2363.8354    445.347      5.308      0.000    1483.193    3244.478\n",
            "drivewheel_fwd    -2016.6827    599.884     -3.362      0.001   -3202.912    -830.454\n",
            "car_company_buick  7984.8761   1778.109      4.491      0.000    4468.789    1.15e+04\n",
            "==============================================================================\n",
            "Omnibus:                       16.079   Durbin-Watson:                   2.142\n",
            "Prob(Omnibus):                  0.000   Jarque-Bera (JB):               21.325\n",
            "Skew:                           0.652   Prob(JB):                     2.34e-05\n",
            "Kurtosis:                       4.371   Cond. No.                         11.8\n",
            "==============================================================================\n",
            "\n",
            "Warnings:\n",
            "[1] Standard Errors assume that the covariance matrix of the errors is correctly specified.\n"
          ]
        }
      ],
      "source": [
        "# Build the linear regression model again using the most recently selected features by RFE\n",
        "import statsmodels.api as sm\n",
        "\n",
        "# Subset the train set such that it contains only the above 5 selected features.\n",
        "rfe_features = X_train[major_features.keys()].columns[rfe2.support_]\n",
        "X_train_rfe2 = X_train[rfe_features]\n",
        "\n",
        "# Add the 'const' column to the features set.\n",
        "X_train_rfe2 = sm.add_constant(X_train_rfe2)\n",
        "\n",
        "# Fit the model with 5 features.\n",
        "sm_lin_reg2 = sm.OLS(y_train, X_train_rfe2).fit()   \n",
        "print(sm_lin_reg2.summary())"
      ]
    },
    {
      "cell_type": "markdown",
      "metadata": {
        "id": "i7Hw7uzfPasE"
      },
      "source": [
        "As you can see, the $R^2$ and adjusted $R^2$ values are pretty high. The p-values for all the 5 features selected are less than 0.05. These are great signs. Now let's calculate the VIF values for these 5 features to see if there is negligible multicollinearity."
      ]
    },
    {
      "cell_type": "code",
      "execution_count": null,
      "metadata": {
        "colab": {
          "base_uri": "https://localhost:8080/",
          "height": 237
        },
        "id": "M8jJLtoq-UBY",
        "outputId": "61003abb-e1c4-4cb7-b467-b95fada6a5db"
      },
      "outputs": [
        {
          "data": {
            "text/html": [
              "<div>\n",
              "<style scoped>\n",
              "    .dataframe tbody tr th:only-of-type {\n",
              "        vertical-align: middle;\n",
              "    }\n",
              "\n",
              "    .dataframe tbody tr th {\n",
              "        vertical-align: top;\n",
              "    }\n",
              "\n",
              "    .dataframe thead th {\n",
              "        text-align: right;\n",
              "    }\n",
              "</style>\n",
              "<table border=\"1\" class=\"dataframe\">\n",
              "  <thead>\n",
              "    <tr style=\"text-align: right;\">\n",
              "      <th></th>\n",
              "      <th>Features</th>\n",
              "      <th>VIF</th>\n",
              "    </tr>\n",
              "  </thead>\n",
              "  <tbody>\n",
              "    <tr>\n",
              "      <th>2</th>\n",
              "      <td>enginesize</td>\n",
              "      <td>4.18</td>\n",
              "    </tr>\n",
              "    <tr>\n",
              "      <th>3</th>\n",
              "      <td>horsepower</td>\n",
              "      <td>3.35</td>\n",
              "    </tr>\n",
              "    <tr>\n",
              "      <th>0</th>\n",
              "      <td>const</td>\n",
              "      <td>3.11</td>\n",
              "    </tr>\n",
              "    <tr>\n",
              "      <th>1</th>\n",
              "      <td>carwidth</td>\n",
              "      <td>2.16</td>\n",
              "    </tr>\n",
              "    <tr>\n",
              "      <th>4</th>\n",
              "      <td>drivewheel_fwd</td>\n",
              "      <td>1.49</td>\n",
              "    </tr>\n",
              "    <tr>\n",
              "      <th>5</th>\n",
              "      <td>car_company_buick</td>\n",
              "      <td>1.46</td>\n",
              "    </tr>\n",
              "  </tbody>\n",
              "</table>\n",
              "</div>"
            ],
            "text/plain": [
              "            Features   VIF\n",
              "2         enginesize  4.18\n",
              "3         horsepower  3.35\n",
              "0              const  3.11\n",
              "1           carwidth  2.16\n",
              "4     drivewheel_fwd  1.49\n",
              "5  car_company_buick  1.46"
            ]
          },
          "execution_count": 14,
          "metadata": {},
          "output_type": "execute_result"
        }
      ],
      "source": [
        "# Check for the VIF values of the feature variables. \n",
        "from statsmodels.stats.outliers_influence import variance_inflation_factor\n",
        "\n",
        "# Create a dataframe that will contain the names of all the feature variables and their respective VIFs\n",
        "vif = pd.DataFrame()\n",
        "vif['Features'] = X_train_rfe2.columns\n",
        "vif['VIF'] = [variance_inflation_factor(X_train_rfe2.values, i) for i in range(X_train_rfe2.shape[1])]\n",
        "vif['VIF'] = round(vif['VIF'], 2)\n",
        "vif = vif.sort_values(by = \"VIF\", ascending = False)\n",
        "vif"
      ]
    },
    {
      "cell_type": "markdown",
      "metadata": {
        "id": "CKCxYZgg-xKz"
      },
      "source": [
        "As you can see, the VIF values for all the features is less than 10. Hence, we can safely assume that the multicollinearity between these features is negligible.\n",
        "\n",
        "Let's stop here. In the next class, we will evaluate this linear regression model further using the MAE, MSE, RMSE parameters and also analyse the residuals."
      ]
    },
    {
      "cell_type": "markdown",
      "metadata": {
        "id": "i6a2op5DP9jv"
      },
      "source": [
        "---"
      ]
    },
    {
      "cell_type": "markdown",
      "metadata": {
        "id": "0ewSATK8tegw"
      },
      "source": [
        "#### Activity 1: Final Features\n",
        "\n",
        "Now that we have obtained the features that has satisfactory  VIF values and p-values, let's build linear regression model using the `sklearn` module to make predictions on the test set as well and evaluate the efficacy of the model using the MAE, MSE, RMSE parameters and also analyse the residuals."
      ]
    },
    {
      "cell_type": "code",
      "execution_count": null,
      "metadata": {
        "colab": {
          "base_uri": "https://localhost:8080/"
        },
        "id": "-228aiHeB0ba",
        "outputId": "974172db-b663-458a-dd3f-f4198109e61f"
      },
      "outputs": [
        {
          "data": {
            "text/plain": [
              "array([11614.67148027, 20805.93850454,  9737.85451687,  6747.05425956,\n",
              "       16681.44092811,  6824.7936787 , 19864.14770684, 10931.14320868,\n",
              "        7165.9828108 , 15535.30134   ,  9528.31159981,  6447.90534522,\n",
              "       15156.91804226, 11332.57459877, 10367.81992176, 18744.69666708,\n",
              "        6667.01482563,  8574.49241448,  6073.31702654, 15535.30134   ,\n",
              "       17995.1078805 , 18723.83472447, 18395.58734129,  6667.01482563,\n",
              "       12312.66565663,  6582.36216355, 23784.75672373, 10525.16960491,\n",
              "        6266.36591107,  6747.05425956, 17193.09859032, 11145.93495064,\n",
              "        6073.31702654, 12605.69802981,  8928.65351476,  6824.7936787 ,\n",
              "       11946.28364492, 18786.0198695 ,  8871.70781821, 17369.38919957,\n",
              "        8574.49241448, 23784.75672373, 16673.53775512,  9282.78821791,\n",
              "       15792.06125757,  5060.12227179, 15274.10217466,  7840.3016468 ,\n",
              "       15274.10217466, 11299.47090189, 11946.28364492, 11145.93495064,\n",
              "        6073.31702654,  5693.54707529, 15865.04439192, 13387.90249977,\n",
              "        6902.82858754,  9599.93447779, 31356.50332561, 17780.89391937,\n",
              "       11145.93495064,  6035.02232066, 11332.57459877,  9903.2542518 ,\n",
              "        7389.97461193, 17193.09859032,  9903.2542518 ,  8574.49241448,\n",
              "        7710.22975926,  8882.28235999, 10525.16960491,  9488.9389287 ,\n",
              "       15865.04439192, 29616.77704797,  6577.32358763,  7109.26158947,\n",
              "        8457.37547442,  9282.78821791, 11140.17553724, 24801.8570677 ,\n",
              "        6447.90534522, 12605.69802981,  9599.93447779,  7165.9828108 ,\n",
              "        8726.80352171, 39759.97259754, 11402.1797531 ,  6824.7936787 ,\n",
              "       17369.38919957, 17193.09859032,  6577.32358763, 16728.01398311,\n",
              "       19862.84144424,  9599.93447779,  6577.32358763, 18808.99797505,\n",
              "       16681.44092811, 11145.93495064, 11614.67148027, 12211.53318827,\n",
              "       27861.04042979, 35543.73916294, 20499.14786551, 12605.69802981,\n",
              "       15865.04439192, 18786.0198695 ,  9974.09362656,  6447.90534522,\n",
              "       15274.10217466,  6447.90534522, 20612.60350673, 15865.04439192,\n",
              "       12856.41068855, 29616.77704797, 11402.1797531 ,  6073.31702654,\n",
              "       10227.97401635,  7165.9828108 , 16673.53775512, 34778.36746259,\n",
              "        9488.9389287 ,  7165.9828108 , 10864.06254436, 13387.90249977,\n",
              "        6447.90534522, 12998.6408218 , 12133.79376913,  5693.54707529,\n",
              "       18884.40333799, 10769.75807822, 17193.09859032, 11402.1797531 ,\n",
              "       42863.14531884,  6073.31702654, 17995.1078805 ,  6035.02232066,\n",
              "       10478.81547085, 36476.61219261, 22458.17441955, 18313.96873005,\n",
              "        6577.32358763, 21724.98122621, 18884.40333799])"
            ]
          },
          "execution_count": 16,
          "metadata": {},
          "output_type": "execute_result"
        }
      ],
      "source": [
        "# S1.1: Create a list of final features and build a linear regression model using the 'sklearn' module.\n",
        "x_train1 = X_train_rfe2.drop(columns = 'const')\n",
        "lr = LinearRegression()\n",
        "lr.fit(x_train1, y_train)\n",
        "y_train_pred = lr.predict(x_train1)\n",
        "y_train_pred"
      ]
    },
    {
      "cell_type": "markdown",
      "metadata": {
        "id": "HvEkQAHUuQWr"
      },
      "source": [
        "Now let's evaluate the efficacy of the model using the $R^2$, adjusted-$R^2$ MAE, MSE and RMSE parameters."
      ]
    },
    {
      "cell_type": "code",
      "execution_count": null,
      "metadata": {
        "colab": {
          "base_uri": "https://localhost:8080/"
        },
        "id": "7FHxIh0-DzmF",
        "outputId": "05045f55-2b75-47e8-bfa8-2340e6301fd5"
      },
      "outputs": [
        {
          "output_type": "stream",
          "name": "stdout",
          "text": [
            "0.868039301033769\n",
            "0.7742359126119904\n",
            "2080.493944076901\n",
            "8042954.083420408\n",
            "2836.0102403588758\n",
            "0.03430939459516446\n"
          ]
        }
      ],
      "source": [
        "# S1.2: Evaluate the linear regression model using the 'r2_score', 'mean_squared_error' & 'mean_absolute_error' functions of the 'sklearn' module.\n",
        "from sklearn.metrics import r2_score, mean_squared_error, mean_absolute_error, mean_squared_log_error\n",
        "print(r2_score(y_train,y_train_pred))\n",
        "train_r2_score = r2_score(y_train, y_train_pred)\n",
        "train_adj_r2_score = 1 - (1 - train_r2_score) * (X_train.shape[0] - 1)/(X_train.shape[0] - X_train.shape[1] - 1)\n",
        "\n",
        "print(train_adj_r2_score)\n",
        "print(mean_absolute_error(y_train,y_train_pred))\n",
        "print(mean_squared_error(y_train,y_train_pred))\n",
        "print(np.sqrt(mean_squared_error(y_train,y_train_pred)))\n",
        "print(mean_squared_log_error(y_train,y_train_pred))"
      ]
    },
    {
      "cell_type": "markdown",
      "metadata": {
        "id": "7rU5CxSluuKz"
      },
      "source": [
        "---"
      ]
    },
    {
      "cell_type": "markdown",
      "metadata": {
        "id": "jujWiXrSuZV4"
      },
      "source": [
        "#### Activity 2: Mean-Squared Log Error (MSLE)\n",
        "\n",
        "When you are predicting large numbers (such as prices, length in millimeter scale etc), often the errors (difference between the actual and the predicted values) are also quite large. In such cases, the MSE, MSE and RMSE values are also large that might give us a false sense that the prediction model is poor. Hence, in such cases, it is best to use another parameter to analyse the errors. This parameter is called **Mean-Squared Log Error (MSLE)**.\n",
        "\n",
        "Mathematically, it is written as \n",
        "\n",
        "$$\\text{MSLE} = \\frac{1}{n}\\left( \\log{(y_\\text{actual} + 1)} - \\log{(y_\\text{predicted} + 1)} \\right)^2$$\n",
        "\n",
        "Before we further with MSLE, let's take quick at log or logarithm used in the formula.\n",
        "\n",
        "**What is natural logarithm or log?**\n",
        "\n",
        "Consider a number $32$. It can also be written as $2^5$ i.e.\n",
        "\n",
        "$$2^{5} = 32$$\n",
        "\n",
        "Here, the number $2$ is called **base**, the number $5$ is called **exponent (or index or power)**.\n",
        "\n",
        "The above mathematical statement can be written as **When $2$ raised to the power $5$, the number obtained is 32.**\n",
        "\n",
        "Now if you flip the above statement as **to what power the number 2 should be raised to so that the number obtained is 32**.\n",
        "\n",
        "This is flipped statement (or rather a question) is roughly the definition of a logarithm.\n",
        "\n",
        "Mathematically, it is written as \n",
        "\n",
        "$$\\log_2 32 = 5$$\n",
        "\n",
        "The implication\n",
        "\n",
        "$$2^{5} = 32 \\Leftrightarrow \\log_2 32 = 5$$\n",
        "\n",
        "is also true.\n",
        "\n",
        "In general, you can say **to what power a base (say $b$) should be raised to so that the number obtained is $c$.**\n",
        "\n",
        "The diagramatic of explanation of the above general definition is shown below.\n",
        "\n",
        "<img src = 'https://student-datasets-bucket.s3.ap-south-1.amazonaws.com/images/log_explanation.png' width = 500>\n",
        "\n",
        "Let's look into the process stepwise:\n",
        "\n",
        "**Step 1:** For exponentiation multiply $b$ with itself $n$ times to get the result $c$\n",
        "\n",
        "$$b^n = b \\times b \\times b \\times b \\times \\dots \\times b \\space{} (n \\: \\text{times})$$ \n",
        "\n",
        "For eg.,\n",
        "\n",
        "$$2^5 =  2 \\times 2 \\times 2 \\times 2 \\times 2$$\n",
        "\n",
        "**Step 2:** This can be written as when $b$ raise to the power of $n$ gives result $c$\n",
        "\n",
        "$$b^n = c$$ \n",
        "\n",
        "For eg.,\n",
        "\n",
        "\n",
        "$$2^5 = 32$$ \n",
        "\n",
        "\n",
        "**Note** Here $b$ and $n$ are known values and $c$ is unknown value. $b$ is the base value and $n$ is the exponent and $c$ is the product of exponentiation.\n",
        "\n",
        "**Step 3:** Now lets reverse the formula a bit, a known $c$ can be achieved by multiplying a known $b$ by itself unknown number of times. That means exponent, i.e. $n$ is unknown It can be written as\n",
        "\n",
        "$$\\color{blue}b^\\color{red}{n} = c$$\n",
        "\n",
        "**Step 4:** By solving the above formula, we get\n",
        "\n",
        "$$\\color{red}{n} = {\\log_\\color{blue}b}(c)$$\n",
        "\n",
        "For eg.,\n",
        "\n",
        "$$5 = \\log_2 32$$\n",
        "\n",
        "The above can be written as logarithm of $c$ to the base $b$ will tell us value of the exponent $n$ means **how many times should $b$ be multiplied with $n$ to achieve $c$**.\n",
        "\n",
        "In layman terms,\n",
        "\n",
        "1. **Exponentiation** is starting with a base number and multiplying it with itself a certain exponent times which will give us some target. \n",
        "\n",
        "  For example, if a task needs to be completed by putting in same amount of effort again and again, using exponentiation, we can find out if we apply the effort certain number of times what proportion of the task will be completed.\n",
        "\n",
        "2. **Logarithm** is starting with the base and target value and find out how many times the base must be multiplied by itself i.e. find the exponent value.\n",
        "\n",
        "Now you find out the value of $\\log_5 625$\n",
        "\n",
        " Let's get a look about the mathematical functions for exponentiation and logarithm in python.\n",
        "\n",
        " In python, `math` module has functions `pow()` and `log()` functions for exponentiation and logarithm. The syntax is as followed:\n",
        "\n",
        " >**Syntax:** `math.pow(x, y)`: `pow()` returns `x**y` (x to the power of y).\n",
        "\n",
        " >**Syntax:** `math.log(x[, base])`\n",
        " \n",
        "`log()` returns the natural logarithm to the base-e of the number x (if the base is not defined). If the base is defined, it returns the given base's logarithm of the number x.\n",
        "\n",
        "You will get to learn about logarithms in more detail in the subsequent classes.\n"
      ]
    },
    {
      "cell_type": "code",
      "execution_count": null,
      "metadata": {
        "id": "MUw4Am-8lmT-",
        "colab": {
          "base_uri": "https://localhost:8080/"
        },
        "outputId": "cb291541-b22e-4a00-99ea-cabea653aa78"
      },
      "outputs": [
        {
          "output_type": "stream",
          "name": "stdout",
          "text": [
            "4294967296.0\n",
            "32.0\n"
          ]
        }
      ],
      "source": [
        "# S2.1 Import math and use 'pow()' to calculate 32nd power of 2 and log of 4294967296 to the base 2\n",
        "import math as m\n",
        "print(m.pow(2,32))\n",
        "print(m.log(4294967296,2))"
      ]
    },
    {
      "cell_type": "markdown",
      "metadata": {
        "id": "RFH8kM8VWxef"
      },
      "source": [
        "As it can be observed log and exponentiation are inverse of each other.\n",
        "\n",
        "Back to MSLE, it is the difference log of the  actual values and predictions.\n",
        "\n",
        "**Note:** The `1` added to both actual values and predictions in the MSLE formula is to avoid the taking the logarithm of `0` because **log of zero is not defined.**\n",
        "\n",
        "Let's calculate the MSLE of the regression model created above using the `mean_squared_log_errror()` from the `sklearn.metrics` module using the syntax below:\n",
        "\n",
        "> **Syntax:** `mean_squared_log_error(y_true, y_pred)`"
      ]
    },
    {
      "cell_type": "code",
      "execution_count": null,
      "metadata": {
        "id": "Vh4xAk3juecZ",
        "colab": {
          "base_uri": "https://localhost:8080/"
        },
        "outputId": "b80dcc72-93cb-45a9-8102-efdcb9627d2f"
      },
      "outputs": [
        {
          "output_type": "stream",
          "name": "stdout",
          "text": [
            "0.03430939459516446\n"
          ]
        }
      ],
      "source": [
        "# S2.2: Evaluate the linear regression model based on MSLE.\n",
        "print(mean_squared_log_error(y_train,y_train_pred))"
      ]
    },
    {
      "cell_type": "markdown",
      "metadata": {
        "id": "pyHYM3Woafne"
      },
      "source": [
        "MSLE returns the relative difference between the true and the predicted value, or in other words, it only cares about the percentual difference between them. \n",
        "\n",
        "It means that MSLE will treat small true and predicted values difference which will also be small approximately the same as big differences between large true and predicted values. \n",
        "\n",
        "The MSLE is low which is good for our model."
      ]
    },
    {
      "cell_type": "markdown",
      "metadata": {
        "id": "6gKXrWaKwoVT"
      },
      "source": [
        "---"
      ]
    },
    {
      "cell_type": "markdown",
      "metadata": {
        "id": "bVG0iroNsGLf"
      },
      "source": [
        "#### Activity 3: Residual Analysis\n",
        "\n",
        "Let's now analyse the residuals (or errors) to further evaluate the efficay of the model.\n",
        "\n",
        "**Homoscedasticity**\n",
        "\n",
        "Let's check if the error terms are normally distributed. **For a line to be the best fit line, the mean of random errors (differene between the actual and predicted values) or mean of errors (or $\\epsilon$) should be 0.**\n",
        "\n",
        "Let us plot the histogram of the error terms and see what it looks like."
      ]
    },
    {
      "cell_type": "code",
      "execution_count": null,
      "metadata": {
        "id": "EOezUKVtCiaa",
        "colab": {
          "base_uri": "https://localhost:8080/",
          "height": 388
        },
        "outputId": "62900dbd-af46-4858-e92e-25df13a8820f"
      },
      "outputs": [
        {
          "output_type": "stream",
          "name": "stderr",
          "text": [
            "/usr/local/lib/python3.7/dist-packages/seaborn/distributions.py:2619: FutureWarning: `distplot` is a deprecated function and will be removed in a future version. Please adapt your code to use either `displot` (a figure-level function with similar flexibility) or `histplot` (an axes-level function for histograms).\n",
            "  warnings.warn(msg, FutureWarning)\n"
          ]
        },
        {
          "output_type": "display_data",
          "data": {
            "image/png": "[encoded data removed]",
            "text/plain": [
              "<Figure size 1080x360 with 1 Axes>"
            ]
          },
          "metadata": {
            "needs_background": "light"
          }
        }
      ],
      "source": [
        "# S3.1: Create a histogram for the errors obtained in the predicted values for the train set.\n",
        "et = y_train-y_train_pred\n",
        "plt.figure(figsize = (15,5))\n",
        "sns.distplot(et,bins = 'sturges',label = f'{np.mean(et):.3f}')\n",
        "plt.axvline(x=np.mean(et))\n",
        "plt.legend()\n",
        "plt.show()"
      ]
    },
    {
      "cell_type": "markdown",
      "metadata": {
        "id": "pnF9aiMPyduh"
      },
      "source": [
        "The mean of residuals is zero for the train set which is exactly what we want for a reliable linear regression model.\n",
        "\n",
        "**Homoscedasticity**\n",
        "\n",
        "In addition to checking for the mean of errors, you also need to check for the Homoscedasticity.\n",
        "\n",
        "Again as you know for homoscedasticity, we need to check the trend in the scatter plot between the errors and predictions. **There should not be a trend** because if there is a trend then it means the variance changes or varies as increase or decrease the actual values.\n",
        "\n",
        "Let's create a scatter plot between the errors and predictions for the train set to see whether there is some kind of relationship between the two."
      ]
    },
    {
      "cell_type": "code",
      "execution_count": null,
      "metadata": {
        "id": "KOMJDBk1DfyO",
        "colab": {
          "base_uri": "https://localhost:8080/",
          "height": 320
        },
        "outputId": "eac6cb8d-48f6-48eb-c43a-dccc7a8e9c0a"
      },
      "outputs": [
        {
          "output_type": "display_data",
          "data": {
            "image/png": "[encoded data removed]",
            "text/plain": [
              "<Figure size 1080x360 with 1 Axes>"
            ]
          },
          "metadata": {
            "needs_background": "light"
          }
        }
      ],
      "source": [
        "# S3.2: Create a scatter plot between 'train_residuals' and 'y_train'.\n",
        "plt.figure(figsize=(15,5))\n",
        "plt.scatter(y_train,et)\n",
        "plt.axhline(y=et.mean(),label=f'{et.mean():.3f}')\n",
        "plt.legend()\n",
        "plt.show()"
      ]
    },
    {
      "cell_type": "markdown",
      "metadata": {
        "id": "utks0CPXymVo"
      },
      "source": [
        "The scatter plot between the residuals and the actual prices for the train set doesn't follow any kind of pattern. The dots are randomly scattered which is again exactly what we want.\n",
        "\n",
        "**Scatter Plot Between Actual & Predicted Values**\n",
        "\n",
        "Let's create a scatter plot between the actual values and predictions for the train set to see whether there is some kind of relationship between the two."
      ]
    },
    {
      "cell_type": "code",
      "execution_count": null,
      "metadata": {
        "id": "51zDAR5sIBgr",
        "colab": {
          "base_uri": "https://localhost:8080/",
          "height": 265
        },
        "outputId": "e6de86c1-65ce-4411-ed0f-02c5a76d8439"
      },
      "outputs": [
        {
          "output_type": "display_data",
          "data": {
            "image/png": "[encoded data removed]",
            "text/plain": [
              "<Figure size 432x288 with 1 Axes>"
            ]
          },
          "metadata": {
            "needs_background": "light"
          }
        }
      ],
      "source": [
        "# S3.3: Create a scatter plot for actual values and predictions of the training data set\n",
        "plt.scatter(y_train,y_train_pred)\n",
        "plt.show()"
      ]
    },
    {
      "cell_type": "markdown",
      "metadata": {
        "id": "kb99Rh93y2OE"
      },
      "source": [
        "This scatter plot between the actual and predicted prices follow almost a straight line which suggests the predicted prices are close to the actual prices of a car.  "
      ]
    },
    {
      "cell_type": "markdown",
      "metadata": {
        "id": "mrFgj8XXw7Sb"
      },
      "source": [
        "---"
      ]
    },
    {
      "cell_type": "markdown",
      "metadata": {
        "id": "dNrWpUO0w49P"
      },
      "source": [
        "#### Activity 4: Prediction on Test Set\n",
        "\n",
        "Let's repeat the model evaluation using the test set.\n",
        "\n",
        "Let's first create the `X_test` dataset using the same features finalized for the training data `X_train_final` using RFE. "
      ]
    },
    {
      "cell_type": "code",
      "execution_count": null,
      "metadata": {
        "id": "hO95Q2IxFzkn"
      },
      "outputs": [],
      "source": [
        "# S4.1: Predict the car prices on the test set.\n",
        "x_test = X_test[x_train1.columns]"
      ]
    },
    {
      "cell_type": "markdown",
      "metadata": {
        "id": "J-spmztLECA0"
      },
      "source": [
        "Let us get the predictions for the testing data using the recent model and `predict()` function"
      ]
    },
    {
      "cell_type": "code",
      "execution_count": null,
      "metadata": {
        "id": "1rZdybWlFQPC"
      },
      "outputs": [],
      "source": [
        "# S4.2: Create a variable and store the predictions of the testing dataset returned by `predict()` in it.\n",
        "y_test_pred = lr.predict(x_test)"
      ]
    },
    {
      "cell_type": "markdown",
      "metadata": {
        "id": "8JK_Seb0FSDc"
      },
      "source": [
        "Now let's evaluate the efficacy of the model using the $R^2$, adjusted-$R^2$ MAE, MSE, RMSE and MSLE parameters."
      ]
    },
    {
      "cell_type": "code",
      "execution_count": null,
      "metadata": {
        "id": "xzE_REsuMGQZ",
        "colab": {
          "base_uri": "https://localhost:8080/"
        },
        "outputId": "5aa84f65-88c1-4638-92f6-193a0ebf41ee"
      },
      "outputs": [
        {
          "output_type": "stream",
          "name": "stdout",
          "text": [
            "0.7905175277548843\n",
            "0.7718137355901418\n",
            "2566.662733731331\n",
            "14513862.919457003\n",
            "3809.706408564445\n",
            "0.13343398658314104\n"
          ]
        }
      ],
      "source": [
        "# S4.3: Evaluate the linear regression model using the 'r2_score', 'mean_squared_error' & 'mean_absolute_error', 'mean_squared_log_error' functions of the 'sklearn' module.\n",
        "print(r2_score(y_test,y_test_pred))\n",
        "test_r2_score = r2_score(y_test, y_test_pred)\n",
        "test_adj_r2_score = 1 - (1 - test_r2_score) * (x_test.shape[0] - 1)/(x_test.shape[0] - x_test.shape[1] - 1)\n",
        "\n",
        "print(test_adj_r2_score)\n",
        "print(mean_absolute_error(y_test,y_test_pred))\n",
        "print(mean_squared_error(y_test,y_test_pred))\n",
        "print(np.sqrt(mean_squared_error(y_test,y_test_pred)))\n",
        "print(mean_squared_log_error(y_test,y_test_pred))"
      ]
    },
    {
      "cell_type": "markdown",
      "metadata": {
        "id": "0zqGMXyAFmkt"
      },
      "source": [
        "Let us plot the histogram of the error terms and predictions of the testing data and see what it looks like to evaluate the model on the residual analysis."
      ]
    },
    {
      "cell_type": "code",
      "execution_count": null,
      "metadata": {
        "id": "TkzY6ZcvMhR0",
        "colab": {
          "base_uri": "https://localhost:8080/",
          "height": 388
        },
        "outputId": "37687f1d-b451-461e-a9b4-ee2eb06fc66e"
      },
      "outputs": [
        {
          "output_type": "stream",
          "name": "stderr",
          "text": [
            "/usr/local/lib/python3.7/dist-packages/seaborn/distributions.py:2619: FutureWarning: `distplot` is a deprecated function and will be removed in a future version. Please adapt your code to use either `displot` (a figure-level function with similar flexibility) or `histplot` (an axes-level function for histograms).\n",
            "  warnings.warn(msg, FutureWarning)\n"
          ]
        },
        {
          "output_type": "display_data",
          "data": {
            "image/png": "[encoded data removed]",
            "text/plain": [
              "<Figure size 1080x360 with 1 Axes>"
            ]
          },
          "metadata": {
            "needs_background": "light"
          }
        }
      ],
      "source": [
        "# S4.3: Create a histogram for the errors obtained in the predicted values for the testing set.\n",
        "et1 = y_test-y_test_pred\n",
        "plt.figure(figsize = (15,5))\n",
        "sns.distplot(et,bins = 'sturges',label = f'{np.mean(et1):.3f}')\n",
        "plt.axvline(x=np.mean(et1))\n",
        "plt.legend()\n",
        "plt.show()"
      ]
    },
    {
      "cell_type": "markdown",
      "metadata": {
        "id": "Nyh79zzYzMcH"
      },
      "source": [
        "The mean of residuals should have been zero. But the MSLE is low. So, we can still trust the reliability of the linear regression model that we built.\n",
        "\n",
        "\n",
        "Let us observe the trend between the actual prices and the residuals for the test set using the scatter plot."
      ]
    },
    {
      "cell_type": "code",
      "execution_count": null,
      "metadata": {
        "id": "HbZLSbPYM52g",
        "colab": {
          "base_uri": "https://localhost:8080/",
          "height": 320
        },
        "outputId": "28a1e7b0-9be2-426d-871c-14213e7fc7fa"
      },
      "outputs": [
        {
          "output_type": "display_data",
          "data": {
            "image/png": "[encoded data removed]",
            "text/plain": [
              "<Figure size 1080x360 with 1 Axes>"
            ]
          },
          "metadata": {
            "needs_background": "light"
          }
        }
      ],
      "source": [
        "# S4.4: Create a scatter plot for the errors obtained in the actual values for the test set for checking homoscedasticity .\n",
        "plt.figure(figsize=(15,5))\n",
        "plt.scatter(y_test,et1)\n",
        "plt.axhline(y=et1.mean(),label=f'{et1.mean():.3f}')\n",
        "plt.legend()\n",
        "plt.show()"
      ]
    },
    {
      "cell_type": "markdown",
      "metadata": {
        "id": "E8dsBhCNzc7R"
      },
      "source": [
        "The scatter plot between the residuals and the actual prices for the test set as well doesn't follow any kind of pattern. The dots are randomly scattered which is again exactly what we want.\n",
        "\n",
        "\n",
        "Let us observe the trend between the actual values and the predictions of the testing dataset."
      ]
    },
    {
      "cell_type": "code",
      "execution_count": null,
      "metadata": {
        "id": "7WiBsw-gM5pk",
        "colab": {
          "base_uri": "https://localhost:8080/",
          "height": 265
        },
        "outputId": "e79f5553-fb37-49fc-8802-58f94e60e431"
      },
      "outputs": [
        {
          "output_type": "display_data",
          "data": {
            "image/png": "[encoded data removed]",
            "text/plain": [
              "<Figure size 432x288 with 1 Axes>"
            ]
          },
          "metadata": {
            "needs_background": "light"
          }
        }
      ],
      "source": [
        "# S4.5: Create a scatter plot for the actual values and the predictions of the testing dataset.\n",
        "plt.scatter(y_test,y_test_pred)\n",
        "plt.show()"
      ]
    },
    {
      "cell_type": "markdown",
      "metadata": {
        "id": "nhV9p3rRzjSB"
      },
      "source": [
        "This scatter plot between the actual and predicted prices follow somewhat straight line which suggests that most of the predicted prices are close to the actual prices of a car.  \n",
        "\n",
        "So finally the most important features and their corresponding regression coeffients are\n",
        "\n",
        "|Feature|Coefficient|\n",
        "|-|-|\n",
        "|`carwidth`|1696.2271|\n",
        "|`enginesize`|2636.6328|\n",
        "|`horsepower`|2363.8354|\n",
        "|`drivewheel_fwd`|-2016.6827|\n",
        "|`car_company_buick`|7984.8761|\n",
        "\n",
        "Hence, the regression equation is\n",
        "\n",
        "$$Y = 14360 + 1696.2271x_1 + 2636.6328x_2 + 2363.8354x_3 - 2016.6827x_4 + 7984.8761x_5$$\n",
        "\n",
        "where\n",
        "\n",
        "- $Y$ is the price of a car\n",
        "\n",
        "- $x_1$ is `carwidth`\n",
        "\n",
        "- $x_2$ is `enginesize`\n",
        "\n",
        "- $x_3$ is `horsepower`\n",
        "\n",
        "- $x_4$ is `drivewheel_fwd`\n",
        "\n",
        "- $x_5$ is `car_company_buick`\n",
        "\n",
        "This concludes linear regression. Let's stop here. from the next class onwards, you will learn another classification-based machine learning algorithm called logistic regression."
      ]
    },
    {
      "cell_type": "markdown",
      "metadata": {
        "id": "KmAe4h8a6d5u"
      },
      "source": [
        "---"
      ]
    }
  ],
  "metadata": {
    "colab": {
      "provenance": []
    },
    "kernelspec": {
      "display_name": "Python 3",
      "name": "python3"
    }
  },
  "nbformat": 4,
  "nbformat_minor": 0
}